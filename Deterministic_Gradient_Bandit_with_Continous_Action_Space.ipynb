{
 "cells": [
  {
   "cell_type": "markdown",
   "metadata": {},
   "source": [
    "# Contextual Bandits Agent with Policy Gradient Method (Deterministic) in Prediction Markets Problem\n",
    "---\n",
    "This is a program that simulates an agent who trades in a prediction market. The problem that the prediction market aims to solve is to predict the real distribution of a random variable. We define the random variable as the colour of a bucket. The problem design comes from a human-subjective experiment for decision markets."
   ]
  },
  {
   "cell_type": "code",
   "execution_count": 20,
   "metadata": {},
   "outputs": [],
   "source": [
    "import matplotlib.pyplot as plt\n",
    "import pandas as pd"
   ]
  },
  {
   "cell_type": "code",
   "execution_count": 21,
   "metadata": {},
   "outputs": [],
   "source": [
    "from main import deterministic_training_notebook\n",
    "from Environment import DecisionRule"
   ]
  },
  {
   "cell_type": "code",
   "execution_count": null,
   "metadata": {},
   "outputs": [
    {
     "data": {
      "application/vnd.jupyter.widget-view+json": {
       "model_id": "9a9adaa83db445f495551df7fe3fe70f",
       "version_major": 2,
       "version_minor": 0
      },
      "text/plain": [
       "  0%|          | 0/6000000 [00:00<?, ?it/s]"
      ]
     },
     "metadata": {},
     "output_type": "display_data"
    },
    {
     "name": "stdout",
     "output_type": "stream",
     "text": [
      "agent0\n",
      "learning_rate_theta= 3e-05\n",
      "learning_rate_wv= 0.003  learning_rate_wq= 0.03\n",
      "memory_size= 16\n",
      "Updating weights with regular algorithm.\n"
     ]
    }
   ],
   "source": [
    "feature_num = 3\n",
    "action_num = 2\n",
    "learning_rate_theta = 3e-5\n",
    "decay_rate = 0  # 0.001\n",
    "learning_rate_wv = 3e-3\n",
    "learning_rate_wq = 3e-2\n",
    "memory_size = 16\n",
    "batch_size = 16\n",
    "training_episodes = int(6e6)\n",
    "beta1 = 0.9\n",
    "beta2 = 0.9999\n",
    "fixed_std = 0.3\n",
    "# Algorithm: adam, momentum, regular\n",
    "algorithm = 'regular'\n",
    "# Bucket parameters\n",
    "# prior_red_list = [3 / 4, 1 / 4]\n",
    "prior_red_list = [0.6, 0.4]\n",
    "pr_red_ball_red_bucket = 2 / 3\n",
    "pr_red_ball_blue_bucket = 1 / 3\n",
    "agent_num = 1\n",
    "\n",
    "explorer_learning = False\n",
    "decision_rule = DecisionRule.DETERMINISTIC\n",
    "preferred_colour_pr_list = [0.6, 0.4]\n",
    "\n",
    "agent_list = deterministic_training_notebook(feature_num, action_num, learning_rate_theta, learning_rate_wv, learning_rate_wq,\n",
    "                                             memory_size, batch_size, training_episodes,\n",
    "                                             decay_rate, beta1, beta2, algorithm, pr_red_ball_red_bucket,\n",
    "                                             pr_red_ball_blue_bucket, prior_red_list, agent_num,\n",
    "                                             explorer_learning, fixed_std, decision_rule, preferred_colour_pr_list)"
   ]
  },
  {
   "cell_type": "code",
   "execution_count": null,
   "metadata": {
    "pycharm": {
     "name": "#%%\n"
    },
    "scrolled": false
   },
   "outputs": [],
   "source": [
    "for agent in agent_list:\n",
    "    agent.reward_history_plot()\n",
    "    agent.mean_gradients_history_plot()\n",
    "    agent.mean_gradients_successive_dot_product_plot()\n",
    "#     agent.mean_history_plot()\n",
    "    agent.mean_weights_history_plot()"
   ]
  },
  {
   "cell_type": "code",
   "execution_count": null,
   "metadata": {
    "scrolled": false
   },
   "outputs": [],
   "source": [
    "# agent_list[0].gradients_history_plot('q')\n",
    "# agent_list[0].gradients_successive_dot_product_plot('q')\n",
    "# #     agent.mean_history_plot()\n",
    "# agent_list[0].weights_history_plot('q')"
   ]
  },
  {
   "cell_type": "code",
   "execution_count": null,
   "metadata": {},
   "outputs": [],
   "source": [
    "agent_list[0].w_q"
   ]
  },
  {
   "cell_type": "code",
   "execution_count": null,
   "metadata": {},
   "outputs": [],
   "source": [
    "agent_list[0].w_v"
   ]
  },
  {
   "cell_type": "code",
   "execution_count": null,
   "metadata": {},
   "outputs": [],
   "source": [
    "from Environment import BucketColour, Ball\n",
    "import numpy as np"
   ]
  },
  {
   "cell_type": "code",
   "execution_count": null,
   "metadata": {},
   "outputs": [],
   "source": [
    "signal = agent_list[0].signal_encode(0, Ball.RED, 3/4)"
   ]
  },
  {
   "cell_type": "code",
   "execution_count": null,
   "metadata": {},
   "outputs": [],
   "source": [
    "a = np.array([[0.1, 0.1]])\n",
    "phi_array =  np.matmul(signal.T, a)"
   ]
  },
  {
   "cell_type": "code",
   "execution_count": null,
   "metadata": {},
   "outputs": [],
   "source": [
    "phi_array"
   ]
  },
  {
   "cell_type": "code",
   "execution_count": null,
   "metadata": {},
   "outputs": [],
   "source": [
    "v_array = np.matmul(signal, agent_list[0].w_v)"
   ]
  },
  {
   "cell_type": "code",
   "execution_count": null,
   "metadata": {},
   "outputs": [],
   "source": [
    "v_array"
   ]
  },
  {
   "cell_type": "code",
   "execution_count": null,
   "metadata": {},
   "outputs": [],
   "source": [
    "q_array = np.sum(phi_array * agent_list[0].w_q, axis=0, keepdims=True)\n",
    "q_array"
   ]
  },
  {
   "cell_type": "code",
   "execution_count": null,
   "metadata": {},
   "outputs": [],
   "source": []
  }
 ],
 "metadata": {
  "kernelspec": {
   "display_name": "PyCharm (contexutal-bandits-problem-continous-actionspace-prediction-market)",
   "language": "python",
   "name": "pycharm-edabad71"
  },
  "language_info": {
   "codemirror_mode": {
    "name": "ipython",
    "version": 3
   },
   "file_extension": ".py",
   "mimetype": "text/x-python",
   "name": "python",
   "nbconvert_exporter": "python",
   "pygments_lexer": "ipython3",
   "version": "3.9.6"
  }
 },
 "nbformat": 4,
 "nbformat_minor": 4
}
